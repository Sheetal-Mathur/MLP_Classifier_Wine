{
  "nbformat": 4,
  "nbformat_minor": 0,
  "metadata": {
    "colab": {
      "name": "Untitled7.ipynb",
      "provenance": [],
      "authorship_tag": "ABX9TyMgUnDfDyWy6Yr2fc4z9L9d",
      "include_colab_link": true
    },
    "kernelspec": {
      "name": "python3",
      "display_name": "Python 3"
    },
    "language_info": {
      "name": "python"
    }
  },
  "cells": [
    {
      "cell_type": "markdown",
      "metadata": {
        "id": "view-in-github",
        "colab_type": "text"
      },
      "source": [
        "<a href=\"https://colab.research.google.com/github/Sheetal-Mathur/MLP_Classifier_Wine/blob/master/MSE.ipynb\" target=\"_parent\"><img src=\"https://colab.research.google.com/assets/colab-badge.svg\" alt=\"Open In Colab\"/></a>"
      ]
    },
    {
      "cell_type": "code",
      "execution_count": 2,
      "metadata": {
        "id": "IIi5W2RurTR9"
      },
      "outputs": [],
      "source": [
        "import numpy as np"
      ]
    },
    {
      "cell_type": "markdown",
      "source": [
        "**MSE WITHOUT USING NUMPY**"
      ],
      "metadata": {
        "id": "RdTxypMVrYGo"
      }
    },
    {
      "cell_type": "code",
      "source": [
        "ytrue=np.array([0.70,0,1,0.30,0.5])\n",
        "ypred=np.array([1,0,0,1,1])\n",
        "\n",
        "\n",
        "error = 0.0\n",
        "    \n",
        "for i in range(len(ytrue)):\n",
        "        \n",
        "        prediction_error =  ytrue[i] - ypred[i]\n",
        "        error += (prediction_error ** 2)\n",
        "    \n",
        "mean_error = error / float(len(ytrue))\n",
        "mean_error"
      ],
      "metadata": {
        "colab": {
          "base_uri": "https://localhost:8080/"
        },
        "id": "zYiL4QB-rfZJ",
        "outputId": "905fe993-5686-4dd9-c3ea-e71d3efaa2d0"
      },
      "execution_count": 3,
      "outputs": [
        {
          "output_type": "execute_result",
          "data": {
            "text/plain": [
              "0.366"
            ]
          },
          "metadata": {},
          "execution_count": 3
        }
      ]
    },
    {
      "cell_type": "markdown",
      "source": [
        "**MSE USING NUMPY**"
      ],
      "metadata": {
        "id": "9VJanJoDrwr_"
      }
    },
    {
      "cell_type": "code",
      "source": [
        "import math\n",
        "ytrue=np.array([0.70,0,1,0.30,0.5])\n",
        "ypred=np.array([1,0,0,1,1])\n",
        " \n",
        "MSE = np.square(ytrue-ypred).mean() \n",
        "MSE"
      ],
      "metadata": {
        "colab": {
          "base_uri": "https://localhost:8080/"
        },
        "id": "1rOGNZQHrvQy",
        "outputId": "50f23d45-b9b4-4caa-9df4-08de747843c6"
      },
      "execution_count": 4,
      "outputs": [
        {
          "output_type": "execute_result",
          "data": {
            "text/plain": [
              "0.366"
            ]
          },
          "metadata": {},
          "execution_count": 4
        }
      ]
    }
  ]
}