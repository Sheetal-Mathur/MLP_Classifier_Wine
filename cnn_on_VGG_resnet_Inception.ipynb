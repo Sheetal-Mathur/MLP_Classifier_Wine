{
  "nbformat": 4,
  "nbformat_minor": 0,
  "metadata": {
    "colab": {
      "name": "cnn_on_VGG-res.ipynb",
      "provenance": [],
      "authorship_tag": "ABX9TyO/3EJBNvJJ4T4KzCyY6Cty",
      "include_colab_link": true
    },
    "kernelspec": {
      "name": "python3",
      "display_name": "Python 3"
    },
    "language_info": {
      "name": "python"
    }
  },
  "cells": [
    {
      "cell_type": "markdown",
      "metadata": {
        "id": "view-in-github",
        "colab_type": "text"
      },
      "source": [
        "<a href=\"https://colab.research.google.com/github/Sheetal-Mathur/MLP_Classifier_Wine/blob/master/cnn_on_VGG_resnet_Inception.ipynb\" target=\"_parent\"><img src=\"https://colab.research.google.com/assets/colab-badge.svg\" alt=\"Open In Colab\"/></a>"
      ]
    },
    {
      "cell_type": "code",
      "execution_count": null,
      "metadata": {
        "colab": {
          "base_uri": "https://localhost:8080/"
        },
        "id": "JlbV3JDNLmzq",
        "outputId": "e658c79b-a3f5-4ad5-d2fe-ac60d429bdb1"
      },
      "outputs": [
        {
          "output_type": "stream",
          "name": "stdout",
          "text": [
            "Collecting keras.applications\n",
            "  Downloading Keras_Applications-1.0.8-py3-none-any.whl (50 kB)\n",
            "\u001b[?25l\r\u001b[K     |██████▌                         | 10 kB 13.6 MB/s eta 0:00:01\r\u001b[K     |█████████████                   | 20 kB 11.0 MB/s eta 0:00:01\r\u001b[K     |███████████████████▍            | 30 kB 9.0 MB/s eta 0:00:01\r\u001b[K     |█████████████████████████▉      | 40 kB 8.0 MB/s eta 0:00:01\r\u001b[K     |████████████████████████████████| 50 kB 3.0 MB/s \n",
            "\u001b[?25hRequirement already satisfied: numpy>=1.9.1 in /usr/local/lib/python3.7/dist-packages (from keras.applications) (1.21.5)\n",
            "Requirement already satisfied: h5py in /usr/local/lib/python3.7/dist-packages (from keras.applications) (3.1.0)\n",
            "Requirement already satisfied: cached-property in /usr/local/lib/python3.7/dist-packages (from h5py->keras.applications) (1.5.2)\n",
            "Installing collected packages: keras.applications\n",
            "Successfully installed keras.applications-1.0.8\n"
          ]
        }
      ],
      "source": [
        "!pip install keras.applications"
      ]
    },
    {
      "cell_type": "code",
      "source": [
        "from tensorflow.keras.applications import ResNet50\n",
        "from keras.preprocessing import image\n",
        "from  tensorflow.keras.applications.resnet50 import preprocess_input, decode_predictions\n",
        "from  tensorflow.keras.applications import vgg16, inception_v3, resnet50,ResNet101,ResNet152\n",
        "import numpy as np\n",
        "import matplotlib.pyplot as plt\n"
      ],
      "metadata": {
        "id": "SDkZwMTLMUsZ"
      },
      "execution_count": null,
      "outputs": []
    },
    {
      "cell_type": "markdown",
      "source": [
        "# **RESNET50**"
      ],
      "metadata": {
        "id": "9RjWGxGlVr-W"
      }
    },
    {
      "cell_type": "code",
      "source": [
        "#RESNET50\n",
        "from keras.preprocessing import image\n",
        "resnet_model = ResNet50(weights='imagenet')\n",
        "img_path = 'chim.jpg' \n",
        "\n",
        "img = image.load_img(img_path, target_size=(224, 224))\n",
        "x = image.img_to_array(img)\n",
        "print(x.shape)\n",
        "x = np.expand_dims(x, axis=0)\n",
        "print(x.shape)\n",
        "x = preprocess_input(x)\n",
        "\n",
        "pred1 = resnet_model.predict(x)\n",
        "# decode the results into a list of tuples (class, description, probability)\n",
        "# (one such list for each sample in the batch)\n",
        "print('Predicted:', decode_predictions(pred1, top=5)[0])"
      ],
      "metadata": {
        "colab": {
          "base_uri": "https://localhost:8080/"
        },
        "id": "9VqdXSv6QxGN",
        "outputId": "1932b0f1-54b1-4fa7-d381-965b3243a984"
      },
      "execution_count": null,
      "outputs": [
        {
          "output_type": "stream",
          "name": "stdout",
          "text": [
            "(224, 224, 3)\n",
            "(1, 224, 224, 3)\n",
            "Downloading data from https://storage.googleapis.com/download.tensorflow.org/data/imagenet_class_index.json\n",
            "40960/35363 [==================================] - 0s 0us/step\n",
            "49152/35363 [=========================================] - 0s 0us/step\n",
            "Predicted: [('n02480855', 'gorilla', 0.34691545), ('n02481823', 'chimpanzee', 0.29746607), ('n02483708', 'siamang', 0.15195443), ('n02484975', 'guenon', 0.069368795), ('n02486261', 'patas', 0.06409315)]\n"
          ]
        }
      ]
    },
    {
      "cell_type": "markdown",
      "source": [
        "# **RESNET101**"
      ],
      "metadata": {
        "id": "sSfLSxNYV2LP"
      }
    },
    {
      "cell_type": "code",
      "source": [
        "#RESNET101\n",
        "from keras.preprocessing import image\n",
        "resnet1_model = ResNet101(weights='imagenet')\n",
        "img_path = 'chim.jpg' \n",
        "\n",
        "img = image.load_img(img_path, target_size=(224, 224))\n",
        "x = image.img_to_array(img)\n",
        "print(x.shape)\n",
        "x = np.expand_dims(x, axis=0)\n",
        "print(x.shape)\n",
        "x = preprocess_input(x)\n",
        "\n",
        "pred2 = resnet1_model.predict(x)\n",
        "# decode the results into a list of tuples (class, description, probability)\n",
        "# (one such list for each sample in the batch)\n",
        "print('Predicted:', decode_predictions(pred2, top=5)[0])"
      ],
      "metadata": {
        "colab": {
          "base_uri": "https://localhost:8080/"
        },
        "id": "zrp2n6DRTFV4",
        "outputId": "6d9754fb-8528-4b6a-c5da-1b65c5e201f7"
      },
      "execution_count": null,
      "outputs": [
        {
          "output_type": "stream",
          "name": "stdout",
          "text": [
            "Downloading data from https://storage.googleapis.com/tensorflow/keras-applications/resnet/resnet101_weights_tf_dim_ordering_tf_kernels.h5\n",
            "179650560/179648224 [==============================] - 1s 0us/step\n",
            "179658752/179648224 [==============================] - 1s 0us/step\n",
            "(224, 224, 3)\n",
            "(1, 224, 224, 3)\n",
            "Predicted: [('n02480855', 'gorilla', 0.39418802), ('n02481823', 'chimpanzee', 0.2632553), ('n02483708', 'siamang', 0.16370231), ('n02099267', 'flat-coated_retriever', 0.016200347), ('n02486261', 'patas', 0.012682353)]\n"
          ]
        }
      ]
    },
    {
      "cell_type": "markdown",
      "source": [
        "# **#RESNET152**"
      ],
      "metadata": {
        "id": "0A9zmXOOV_e5"
      }
    },
    {
      "cell_type": "code",
      "source": [
        "#RESNET152\n",
        "from keras.preprocessing import image\n",
        "resnet2_model = ResNet152(weights='imagenet')\n",
        "img_path = 'chim.jpg' \n",
        "\n",
        "img = image.load_img(img_path, target_size=(224, 224))\n",
        "x = image.img_to_array(img)\n",
        "print(x.shape)\n",
        "x = np.expand_dims(x, axis=0)\n",
        "print(x.shape)\n",
        "x = preprocess_input(x)\n",
        "\n",
        "pred3 = resnet2_model.predict(x)\n",
        "# decode the results into a list of tuples (class, description, probability)\n",
        "# (one such list for each sample in the batch)\n",
        "print('Predicted:', decode_predictions(pred3, top=5)[0])"
      ],
      "metadata": {
        "colab": {
          "base_uri": "https://localhost:8080/"
        },
        "id": "tLDg4H4nTgrj",
        "outputId": "c6a34323-ae15-4d4d-edbc-ace5f84188ac"
      },
      "execution_count": null,
      "outputs": [
        {
          "output_type": "stream",
          "name": "stdout",
          "text": [
            "Downloading data from https://storage.googleapis.com/tensorflow/keras-applications/resnet/resnet152_weights_tf_dim_ordering_tf_kernels.h5\n",
            "242900992/242900224 [==============================] - 2s 0us/step\n",
            "242909184/242900224 [==============================] - 2s 0us/step\n",
            "(224, 224, 3)\n",
            "(1, 224, 224, 3)\n",
            "Predicted: [('n02481823', 'chimpanzee', 0.33285815), ('n02483708', 'siamang', 0.21061602), ('n02480855', 'gorilla', 0.16007319), ('n02486261', 'patas', 0.079470605), ('n02363005', 'beaver', 0.060794026)]\n"
          ]
        }
      ]
    },
    {
      "cell_type": "markdown",
      "source": [
        "# **VGG16,VGG19**"
      ],
      "metadata": {
        "id": "vpKm3is1WFIo"
      }
    },
    {
      "cell_type": "code",
      "source": [
        "#VGG\n",
        "from  tensorflow.keras.applications import VGG16,VGG19\n",
        "from keras.preprocessing import image\n",
        "vggModel=VGG16(weights='imagenet')\n",
        "vgg19Model=VGG19(weights='imagenet')\n",
        "\n",
        "path='chim.jpg'\n",
        "pimg=image.load_img(path,target_size=(224,224))\n",
        "iarray=image.img_to_array(pimg)\n",
        "print('image shape',iarray.shape)\n",
        "iexpand = np.expand_dims(iarray,axis=0)\n",
        "print(iexpand.shape)\n",
        "\n",
        "pred16=vggModel.predict(iexpand)\n",
        "pred19=vgg19Model.predict(iexpand)\n",
        "\n",
        "from  tensorflow.keras.applications.vgg16 import decode_predictions\n",
        "decode_predictions(pred16,top=5)[0]\n",
        "\n",
        "\n",
        "\n"
      ],
      "metadata": {
        "colab": {
          "base_uri": "https://localhost:8080/"
        },
        "id": "IDy7wI9JUJ_6",
        "outputId": "e61ba570-613f-4c54-fab0-89fed818a947"
      },
      "execution_count": null,
      "outputs": [
        {
          "output_type": "stream",
          "name": "stdout",
          "text": [
            "Downloading data from https://storage.googleapis.com/tensorflow/keras-applications/vgg16/vgg16_weights_tf_dim_ordering_tf_kernels.h5\n",
            "553467904/553467096 [==============================] - 4s 0us/step\n",
            "553476096/553467096 [==============================] - 4s 0us/step\n",
            "Downloading data from https://storage.googleapis.com/tensorflow/keras-applications/vgg19/vgg19_weights_tf_dim_ordering_tf_kernels.h5\n",
            "574717952/574710816 [==============================] - 7s 0us/step\n",
            "574726144/574710816 [==============================] - 7s 0us/step\n",
            "image shape (224, 224, 3)\n",
            "(1, 224, 224, 3)\n",
            "WARNING:tensorflow:5 out of the last 5 calls to <function Model.make_predict_function.<locals>.predict_function at 0x7f237b235f80> triggered tf.function retracing. Tracing is expensive and the excessive number of tracings could be due to (1) creating @tf.function repeatedly in a loop, (2) passing tensors with different shapes, (3) passing Python objects instead of tensors. For (1), please define your @tf.function outside of the loop. For (2), @tf.function has experimental_relax_shapes=True option that relaxes argument shapes that can avoid unnecessary retracing. For (3), please refer to https://www.tensorflow.org/guide/function#controlling_retracing and https://www.tensorflow.org/api_docs/python/tf/function for  more details.\n"
          ]
        },
        {
          "output_type": "execute_result",
          "data": {
            "text/plain": [
              "[('n02480855', 'gorilla', 0.7473865),\n",
              " ('n02481823', 'chimpanzee', 0.15211326),\n",
              " ('n02487347', 'macaque', 0.04555832),\n",
              " ('n02480495', 'orangutan', 0.034067497),\n",
              " ('n02486410', 'baboon', 0.014003291)]"
            ]
          },
          "metadata": {},
          "execution_count": 10
        }
      ]
    },
    {
      "cell_type": "code",
      "source": [
        "from  tensorflow.keras.applications.vgg19 import decode_predictions\n",
        "y=decode_predictions(pred19,top=5)[0]\n",
        "y\n",
        "\n",
        "#plt.bar(y)"
      ],
      "metadata": {
        "colab": {
          "base_uri": "https://localhost:8080/"
        },
        "id": "IP1K-kn2WLsq",
        "outputId": "4b797d30-b49e-4007-b842-9f47c9921404"
      },
      "execution_count": null,
      "outputs": [
        {
          "output_type": "execute_result",
          "data": {
            "text/plain": [
              "[('n02480855', 'gorilla', 0.9360877),\n",
              " ('n02480495', 'orangutan', 0.025131261),\n",
              " ('n02481823', 'chimpanzee', 0.024536785),\n",
              " ('n02487347', 'macaque', 0.0071369763),\n",
              " ('n02486410', 'baboon', 0.0046032257)]"
            ]
          },
          "metadata": {},
          "execution_count": 11
        }
      ]
    },
    {
      "cell_type": "markdown",
      "source": [
        "# **InceptionV3**"
      ],
      "metadata": {
        "id": "H9veFhaiWMBz"
      }
    },
    {
      "cell_type": "code",
      "source": [
        "from tensorflow.keras.applications import InceptionV3\n",
        "from keras.preprocessing import image\n",
        "inception = InceptionV3(weights='imagenet')\n",
        "img_path = 'dog4.jpg' \n",
        "\n",
        "img = image.load_img(img_path, target_size=(299, 299,3))\n",
        "x = image.img_to_array(img)\n",
        "print(x.shape)\n",
        "x1 = np.expand_dims(x, axis=0)\n",
        "print(x.shape)\n",
        "x2 = preprocess_input(x1)\n",
        "\n",
        "pred_incep = inception.predict(x2)\n",
        "# decode the results into a list of tuples (class, description, probability)\n",
        "# (one such list for each sample in the batch)\n",
        "print('Predicted:', decode_predictions(pred_incep, top=10)[0])"
      ],
      "metadata": {
        "colab": {
          "base_uri": "https://localhost:8080/"
        },
        "id": "fRxxvufbZafA",
        "outputId": "00abd60a-5236-4f25-e8b9-b37c3fe0bdd1"
      },
      "execution_count": null,
      "outputs": [
        {
          "output_type": "stream",
          "name": "stdout",
          "text": [
            "(299, 299, 3)\n",
            "(299, 299, 3)\n",
            "WARNING:tensorflow:6 out of the last 6 calls to <function Model.make_predict_function.<locals>.predict_function at 0x7f2375a6d290> triggered tf.function retracing. Tracing is expensive and the excessive number of tracings could be due to (1) creating @tf.function repeatedly in a loop, (2) passing tensors with different shapes, (3) passing Python objects instead of tensors. For (1), please define your @tf.function outside of the loop. For (2), @tf.function has experimental_relax_shapes=True option that relaxes argument shapes that can avoid unnecessary retracing. For (3), please refer to https://www.tensorflow.org/guide/function#controlling_retracing and https://www.tensorflow.org/api_docs/python/tf/function for  more details.\n",
            "Predicted: [('n06359193', 'web_site', 0.99999976), ('n02442845', 'mink', 2.5298155e-07), ('n04131690', 'saltshaker', 2.8026749e-08), ('n03950228', 'pitcher', 5.3333507e-09), ('n04328186', 'stopwatch', 2.4409943e-09), ('n02841315', 'binoculars', 6.0009525e-10), ('n03481172', 'hammer', 2.2682795e-10), ('n03729826', 'matchstick', 1.3055673e-11), ('n02105056', 'groenendael', 3.1303868e-12), ('n02089973', 'English_foxhound', 7.2053637e-13)]\n"
          ]
        }
      ]
    },
    {
      "cell_type": "markdown",
      "source": [
        "# **InceptionV1/GOGGLENET**"
      ],
      "metadata": {
        "id": "KFdq2roVTs9K"
      }
    },
    {
      "cell_type": "code",
      "source": [
        "from tensorflow.keras.applications import InceptionV1\n",
        "\n",
        "from keras.preprocessing import image\n",
        "inception = InceptionV1(weights='imagenet')\n",
        "img_path = 'img1.jpg' \n",
        "\n",
        "img = image.load_img(img_path, target_size=(224, 224,3))\n",
        "x = image.img_to_array(img)\n",
        "print(x.shape)\n",
        "x1 = np.expand_dims(x, axis=0)\n",
        "print(x.shape)\n",
        "x2 = preprocess_input(x1)\n",
        "\n",
        "pred_incep = inception.predict(x2)\n",
        "# decode the results into a list of tuples (class, description, probability)\n",
        "# (one such list for each sample in the batch)\n",
        "print('Predicted:', decode_predictions(pred_incep, top=10)[0])"
      ],
      "metadata": {
        "id": "Zp_ccau1Zhzj"
      },
      "execution_count": null,
      "outputs": []
    }
  ]
}